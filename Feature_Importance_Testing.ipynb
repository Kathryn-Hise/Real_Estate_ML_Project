{
  "nbformat": 4,
  "nbformat_minor": 0,
  "metadata": {
    "colab": {
      "provenance": [],
      "include_colab_link": true
    },
    "kernelspec": {
      "name": "python3",
      "display_name": "Python 3"
    },
    "language_info": {
      "name": "python"
    }
  },
  "cells": [
    {
      "cell_type": "markdown",
      "metadata": {
        "id": "view-in-github",
        "colab_type": "text"
      },
      "source": [
        "<a href=\"https://colab.research.google.com/github/Kathryn-Hise/Real_Estate_ML_Project/blob/main/Feature_Importance_Testing.ipynb\" target=\"_parent\"><img src=\"https://colab.research.google.com/assets/colab-badge.svg\" alt=\"Open In Colab\"/></a>"
      ]
    },
    {
      "cell_type": "markdown",
      "source": [
        "#Feature Importance Testing\n",
        "Each Module has the following:\n",
        "* Trained Regressor\n",
        "* Regressor Score\n",
        "* Important Features from Regressor"
      ],
      "metadata": {
        "id": "Gr838-j0yOmd"
      }
    },
    {
      "cell_type": "markdown",
      "source": [
        "##Imports"
      ],
      "metadata": {
        "id": "Kd_awmBdy9RB"
      }
    },
    {
      "cell_type": "code",
      "execution_count": null,
      "metadata": {
        "id": "aiWQutMKyCcr"
      },
      "outputs": [],
      "source": [
        "import numpy as np\n",
        "import matplotlib.pyplot as plt\n",
        "import pandas as pd\n",
        "\n",
        "# Common utilities\n",
        "from sklearn import datasets\n",
        "from sklearn.model_selection import train_test_split\n",
        "from sklearn.preprocessing import StandardScaler\n",
        "from sklearn.model_selection import GridSearchCV\n",
        "from sklearn.pipeline import Pipeline\n",
        "from sklearn.preprocessing import OneHotEncoder\n",
        "from sklearn.impute import SimpleImputer\n",
        "\n",
        "#Regressors\n",
        "from sklearn.linear_model import LinearRegression\n",
        "from sklearn.ensemble import HistGradientBoostingRegressor\n",
        "from sklearn.linear_model import LogisticRegression\n",
        "from sklearn.linear_model import LogisticRegressionCV\n",
        "from sklearn.ensemble import RandomForestClassifier\n",
        "from sklearn.ensemble import RandomForestRegressor\n",
        "\n",
        "# Classifiers\n",
        "from sklearn.neighbors import KNeighborsClassifier\n",
        "from sklearn.tree import DecisionTreeClassifier\n",
        "from sklearn.tree import plot_tree\n",
        "from sklearn.neural_network import MLPClassifier\n",
        "\n",
        "#Other Utilities\n",
        "from sklearn.inspection import permutation_importance"
      ]
    },
    {
      "cell_type": "markdown",
      "source": [
        "###Dr. D Functions"
      ],
      "metadata": {
        "id": "p06vK9Of0EaM"
      }
    },
    {
      "cell_type": "code",
      "source": [
        "# A custom version of PredictionErrorDisplay \n",
        "def make_regression_plot(reg):\n",
        "  plt.plot(reg.predict(X_train), y_train, 'bo', alpha=0.2, label='Train')\n",
        "  plt.plot(reg.predict(X_test), y_test, 'ro', alpha=0.8, label='Test')\n",
        "  plt.plot([y_test.min(), y_test.max()], [y_test.min(), y_test.max()], 'k--')\n",
        "  plt.xlabel('Predicted')\n",
        "  plt.ylabel('Actual')\n",
        "  plt.gca().set_aspect('equal') # square aspect ratio\n",
        "  plt.legend()\n",
        "  plt.grid()"
      ],
      "metadata": {
        "id": "BmXP25Oj0HyG"
      },
      "execution_count": null,
      "outputs": []
    },
    {
      "cell_type": "code",
      "source": [
        "scores = dict() #set up dictonary to store all scores"
      ],
      "metadata": {
        "id": "856YWqGo0aMF"
      },
      "execution_count": null,
      "outputs": []
    },
    {
      "cell_type": "markdown",
      "source": [
        "##Import and Clean Data"
      ],
      "metadata": {
        "id": "dNQgVvoXzOBm"
      }
    },
    {
      "cell_type": "code",
      "source": [
        "dfTrain = pd.read_csv('https://raw.githubusercontent.com/Kathryn-Hise/Real_Estate_ML_Project/main/train.csv') \n",
        "df = pd.get_dummies(dfTrain,dtype=float)\n",
        "df.dropna(axis=1)\n",
        "df.loc[:, ~df.columns.isin(['LotFrontage', 'MasVnrArea','GarageYrBlt'])]\n",
        "df = df.drop(columns=['LotFrontage', 'MasVnrArea','GarageYrBlt', 'Id'],axis=1)\n",
        "y = df['SalePrice'].to_numpy()\n",
        "X = df.loc[:, df.columns!='SalePrice'].to_numpy()\n",
        "X_train, X_test, y_train, y_test = train_test_split(X, y, random_state=0, test_size=0.2)"
      ],
      "metadata": {
        "id": "rZKHtD9wzMhK"
      },
      "execution_count": null,
      "outputs": []
    },
    {
      "cell_type": "markdown",
      "source": [
        "##Regressors"
      ],
      "metadata": {
        "id": "ab98Xf4AzdiZ"
      }
    },
    {
      "cell_type": "markdown",
      "source": [
        "###Linear Regression"
      ],
      "metadata": {
        "id": "GpFuLnGDzglN"
      }
    },
    {
      "cell_type": "code",
      "source": [
        "estimators = [('scaler', StandardScaler()), ('reg', LinearRegression() ) ]\n",
        "lin_pipe = Pipeline(estimators)\n",
        "\n",
        "lin_pipe.fit(X_train, y_train)\n",
        "\n",
        "print(f\"Train Score:\\t{lin_pipe.score(X_train, y_train):0.3f}\")\n",
        "print(f\"Test Score:\\t{lin_pipe.score(X_test,y_test):0.3f}\")\n",
        "\n",
        "scores['LinearRegressor'] = lin_pipe.score(X_test,y_test)"
      ],
      "metadata": {
        "colab": {
          "base_uri": "https://localhost:8080/"
        },
        "id": "SirR4zCdzkZW",
        "outputId": "86c85284-6531-40d7-9ca5-ca6b3bfd377e"
      },
      "execution_count": null,
      "outputs": [
        {
          "output_type": "stream",
          "name": "stdout",
          "text": [
            "Train Score:\t0.944\n",
            "Test Score:\t-261519902388856368922624.000\n"
          ]
        }
      ]
    },
    {
      "cell_type": "code",
      "source": [
        "make_regression_plot(lin_pipe)"
      ],
      "metadata": {
        "colab": {
          "base_uri": "https://localhost:8080/",
          "height": 352
        },
        "id": "KjyLjZJfxPpS",
        "outputId": "e96bbe88-6439-42f3-a663-b5ed441a0960"
      },
      "execution_count": null,
      "outputs": [
        {
          "output_type": "stream",
          "name": "stderr",
          "text": [
            "/usr/local/lib/python3.10/dist-packages/sklearn/base.py:432: UserWarning: X has feature names, but StandardScaler was fitted without feature names\n",
            "  warnings.warn(\n"
          ]
        },
        {
          "output_type": "error",
          "ename": "ValueError",
          "evalue": "ignored",
          "traceback": [
            "\u001b[0;31m---------------------------------------------------------------------------\u001b[0m",
            "\u001b[0;31mValueError\u001b[0m                                Traceback (most recent call last)",
            "\u001b[0;32m<ipython-input-30-669b0c0c67f5>\u001b[0m in \u001b[0;36m<cell line: 1>\u001b[0;34m()\u001b[0m\n\u001b[0;32m----> 1\u001b[0;31m \u001b[0mmake_regression_plot\u001b[0m\u001b[0;34m(\u001b[0m\u001b[0mlin_pipe\u001b[0m\u001b[0;34m)\u001b[0m\u001b[0;34m\u001b[0m\u001b[0;34m\u001b[0m\u001b[0m\n\u001b[0m",
            "\u001b[0;32m<ipython-input-2-e9643fd18a3e>\u001b[0m in \u001b[0;36mmake_regression_plot\u001b[0;34m(reg)\u001b[0m\n\u001b[1;32m      1\u001b[0m \u001b[0;31m# A custom version of PredictionErrorDisplay\u001b[0m\u001b[0;34m\u001b[0m\u001b[0;34m\u001b[0m\u001b[0m\n\u001b[1;32m      2\u001b[0m \u001b[0;32mdef\u001b[0m \u001b[0mmake_regression_plot\u001b[0m\u001b[0;34m(\u001b[0m\u001b[0mreg\u001b[0m\u001b[0;34m)\u001b[0m\u001b[0;34m:\u001b[0m\u001b[0;34m\u001b[0m\u001b[0;34m\u001b[0m\u001b[0m\n\u001b[0;32m----> 3\u001b[0;31m   \u001b[0mplt\u001b[0m\u001b[0;34m.\u001b[0m\u001b[0mplot\u001b[0m\u001b[0;34m(\u001b[0m\u001b[0mreg\u001b[0m\u001b[0;34m.\u001b[0m\u001b[0mpredict\u001b[0m\u001b[0;34m(\u001b[0m\u001b[0mX_train\u001b[0m\u001b[0;34m)\u001b[0m\u001b[0;34m,\u001b[0m \u001b[0my_train\u001b[0m\u001b[0;34m,\u001b[0m \u001b[0;34m'bo'\u001b[0m\u001b[0;34m,\u001b[0m \u001b[0malpha\u001b[0m\u001b[0;34m=\u001b[0m\u001b[0;36m0.2\u001b[0m\u001b[0;34m,\u001b[0m \u001b[0mlabel\u001b[0m\u001b[0;34m=\u001b[0m\u001b[0;34m'Train'\u001b[0m\u001b[0;34m)\u001b[0m\u001b[0;34m\u001b[0m\u001b[0;34m\u001b[0m\u001b[0m\n\u001b[0m\u001b[1;32m      4\u001b[0m   \u001b[0mplt\u001b[0m\u001b[0;34m.\u001b[0m\u001b[0mplot\u001b[0m\u001b[0;34m(\u001b[0m\u001b[0mreg\u001b[0m\u001b[0;34m.\u001b[0m\u001b[0mpredict\u001b[0m\u001b[0;34m(\u001b[0m\u001b[0mX_test\u001b[0m\u001b[0;34m)\u001b[0m\u001b[0;34m,\u001b[0m \u001b[0my_test\u001b[0m\u001b[0;34m,\u001b[0m \u001b[0;34m'ro'\u001b[0m\u001b[0;34m,\u001b[0m \u001b[0malpha\u001b[0m\u001b[0;34m=\u001b[0m\u001b[0;36m0.8\u001b[0m\u001b[0;34m,\u001b[0m \u001b[0mlabel\u001b[0m\u001b[0;34m=\u001b[0m\u001b[0;34m'Test'\u001b[0m\u001b[0;34m)\u001b[0m\u001b[0;34m\u001b[0m\u001b[0;34m\u001b[0m\u001b[0m\n\u001b[1;32m      5\u001b[0m   \u001b[0mplt\u001b[0m\u001b[0;34m.\u001b[0m\u001b[0mplot\u001b[0m\u001b[0;34m(\u001b[0m\u001b[0;34m[\u001b[0m\u001b[0my_test\u001b[0m\u001b[0;34m.\u001b[0m\u001b[0mmin\u001b[0m\u001b[0;34m(\u001b[0m\u001b[0;34m)\u001b[0m\u001b[0;34m,\u001b[0m \u001b[0my_test\u001b[0m\u001b[0;34m.\u001b[0m\u001b[0mmax\u001b[0m\u001b[0;34m(\u001b[0m\u001b[0;34m)\u001b[0m\u001b[0;34m]\u001b[0m\u001b[0;34m,\u001b[0m \u001b[0;34m[\u001b[0m\u001b[0my_test\u001b[0m\u001b[0;34m.\u001b[0m\u001b[0mmin\u001b[0m\u001b[0;34m(\u001b[0m\u001b[0;34m)\u001b[0m\u001b[0;34m,\u001b[0m \u001b[0my_test\u001b[0m\u001b[0;34m.\u001b[0m\u001b[0mmax\u001b[0m\u001b[0;34m(\u001b[0m\u001b[0;34m)\u001b[0m\u001b[0;34m]\u001b[0m\u001b[0;34m,\u001b[0m \u001b[0;34m'k--'\u001b[0m\u001b[0;34m)\u001b[0m\u001b[0;34m\u001b[0m\u001b[0;34m\u001b[0m\u001b[0m\n",
            "\u001b[0;32m/usr/local/lib/python3.10/dist-packages/sklearn/pipeline.py\u001b[0m in \u001b[0;36mpredict\u001b[0;34m(self, X, **predict_params)\u001b[0m\n\u001b[1;32m    478\u001b[0m         \u001b[0mXt\u001b[0m \u001b[0;34m=\u001b[0m \u001b[0mX\u001b[0m\u001b[0;34m\u001b[0m\u001b[0;34m\u001b[0m\u001b[0m\n\u001b[1;32m    479\u001b[0m         \u001b[0;32mfor\u001b[0m \u001b[0m_\u001b[0m\u001b[0;34m,\u001b[0m \u001b[0mname\u001b[0m\u001b[0;34m,\u001b[0m \u001b[0mtransform\u001b[0m \u001b[0;32min\u001b[0m \u001b[0mself\u001b[0m\u001b[0;34m.\u001b[0m\u001b[0m_iter\u001b[0m\u001b[0;34m(\u001b[0m\u001b[0mwith_final\u001b[0m\u001b[0;34m=\u001b[0m\u001b[0;32mFalse\u001b[0m\u001b[0;34m)\u001b[0m\u001b[0;34m:\u001b[0m\u001b[0;34m\u001b[0m\u001b[0;34m\u001b[0m\u001b[0m\n\u001b[0;32m--> 480\u001b[0;31m             \u001b[0mXt\u001b[0m \u001b[0;34m=\u001b[0m \u001b[0mtransform\u001b[0m\u001b[0;34m.\u001b[0m\u001b[0mtransform\u001b[0m\u001b[0;34m(\u001b[0m\u001b[0mXt\u001b[0m\u001b[0;34m)\u001b[0m\u001b[0;34m\u001b[0m\u001b[0;34m\u001b[0m\u001b[0m\n\u001b[0m\u001b[1;32m    481\u001b[0m         \u001b[0;32mreturn\u001b[0m \u001b[0mself\u001b[0m\u001b[0;34m.\u001b[0m\u001b[0msteps\u001b[0m\u001b[0;34m[\u001b[0m\u001b[0;34m-\u001b[0m\u001b[0;36m1\u001b[0m\u001b[0;34m]\u001b[0m\u001b[0;34m[\u001b[0m\u001b[0;36m1\u001b[0m\u001b[0;34m]\u001b[0m\u001b[0;34m.\u001b[0m\u001b[0mpredict\u001b[0m\u001b[0;34m(\u001b[0m\u001b[0mXt\u001b[0m\u001b[0;34m,\u001b[0m \u001b[0;34m**\u001b[0m\u001b[0mpredict_params\u001b[0m\u001b[0;34m)\u001b[0m\u001b[0;34m\u001b[0m\u001b[0;34m\u001b[0m\u001b[0m\n\u001b[1;32m    482\u001b[0m \u001b[0;34m\u001b[0m\u001b[0m\n",
            "\u001b[0;32m/usr/local/lib/python3.10/dist-packages/sklearn/utils/_set_output.py\u001b[0m in \u001b[0;36mwrapped\u001b[0;34m(self, X, *args, **kwargs)\u001b[0m\n\u001b[1;32m    138\u001b[0m     \u001b[0;34m@\u001b[0m\u001b[0mwraps\u001b[0m\u001b[0;34m(\u001b[0m\u001b[0mf\u001b[0m\u001b[0;34m)\u001b[0m\u001b[0;34m\u001b[0m\u001b[0;34m\u001b[0m\u001b[0m\n\u001b[1;32m    139\u001b[0m     \u001b[0;32mdef\u001b[0m \u001b[0mwrapped\u001b[0m\u001b[0;34m(\u001b[0m\u001b[0mself\u001b[0m\u001b[0;34m,\u001b[0m \u001b[0mX\u001b[0m\u001b[0;34m,\u001b[0m \u001b[0;34m*\u001b[0m\u001b[0margs\u001b[0m\u001b[0;34m,\u001b[0m \u001b[0;34m**\u001b[0m\u001b[0mkwargs\u001b[0m\u001b[0;34m)\u001b[0m\u001b[0;34m:\u001b[0m\u001b[0;34m\u001b[0m\u001b[0;34m\u001b[0m\u001b[0m\n\u001b[0;32m--> 140\u001b[0;31m         \u001b[0mdata_to_wrap\u001b[0m \u001b[0;34m=\u001b[0m \u001b[0mf\u001b[0m\u001b[0;34m(\u001b[0m\u001b[0mself\u001b[0m\u001b[0;34m,\u001b[0m \u001b[0mX\u001b[0m\u001b[0;34m,\u001b[0m \u001b[0;34m*\u001b[0m\u001b[0margs\u001b[0m\u001b[0;34m,\u001b[0m \u001b[0;34m**\u001b[0m\u001b[0mkwargs\u001b[0m\u001b[0;34m)\u001b[0m\u001b[0;34m\u001b[0m\u001b[0;34m\u001b[0m\u001b[0m\n\u001b[0m\u001b[1;32m    141\u001b[0m         \u001b[0;32mif\u001b[0m \u001b[0misinstance\u001b[0m\u001b[0;34m(\u001b[0m\u001b[0mdata_to_wrap\u001b[0m\u001b[0;34m,\u001b[0m \u001b[0mtuple\u001b[0m\u001b[0;34m)\u001b[0m\u001b[0;34m:\u001b[0m\u001b[0;34m\u001b[0m\u001b[0;34m\u001b[0m\u001b[0m\n\u001b[1;32m    142\u001b[0m             \u001b[0;31m# only wrap the first output for cross decomposition\u001b[0m\u001b[0;34m\u001b[0m\u001b[0;34m\u001b[0m\u001b[0m\n",
            "\u001b[0;32m/usr/local/lib/python3.10/dist-packages/sklearn/preprocessing/_data.py\u001b[0m in \u001b[0;36mtransform\u001b[0;34m(self, X, copy)\u001b[0m\n\u001b[1;32m    990\u001b[0m \u001b[0;34m\u001b[0m\u001b[0m\n\u001b[1;32m    991\u001b[0m         \u001b[0mcopy\u001b[0m \u001b[0;34m=\u001b[0m \u001b[0mcopy\u001b[0m \u001b[0;32mif\u001b[0m \u001b[0mcopy\u001b[0m \u001b[0;32mis\u001b[0m \u001b[0;32mnot\u001b[0m \u001b[0;32mNone\u001b[0m \u001b[0;32melse\u001b[0m \u001b[0mself\u001b[0m\u001b[0;34m.\u001b[0m\u001b[0mcopy\u001b[0m\u001b[0;34m\u001b[0m\u001b[0;34m\u001b[0m\u001b[0m\n\u001b[0;32m--> 992\u001b[0;31m         X = self._validate_data(\n\u001b[0m\u001b[1;32m    993\u001b[0m             \u001b[0mX\u001b[0m\u001b[0;34m,\u001b[0m\u001b[0;34m\u001b[0m\u001b[0;34m\u001b[0m\u001b[0m\n\u001b[1;32m    994\u001b[0m             \u001b[0mreset\u001b[0m\u001b[0;34m=\u001b[0m\u001b[0;32mFalse\u001b[0m\u001b[0;34m,\u001b[0m\u001b[0;34m\u001b[0m\u001b[0;34m\u001b[0m\u001b[0m\n",
            "\u001b[0;32m/usr/local/lib/python3.10/dist-packages/sklearn/base.py\u001b[0m in \u001b[0;36m_validate_data\u001b[0;34m(self, X, y, reset, validate_separately, **check_params)\u001b[0m\n\u001b[1;32m    586\u001b[0m \u001b[0;34m\u001b[0m\u001b[0m\n\u001b[1;32m    587\u001b[0m         \u001b[0;32mif\u001b[0m \u001b[0;32mnot\u001b[0m \u001b[0mno_val_X\u001b[0m \u001b[0;32mand\u001b[0m \u001b[0mcheck_params\u001b[0m\u001b[0;34m.\u001b[0m\u001b[0mget\u001b[0m\u001b[0;34m(\u001b[0m\u001b[0;34m\"ensure_2d\"\u001b[0m\u001b[0;34m,\u001b[0m \u001b[0;32mTrue\u001b[0m\u001b[0;34m)\u001b[0m\u001b[0;34m:\u001b[0m\u001b[0;34m\u001b[0m\u001b[0;34m\u001b[0m\u001b[0m\n\u001b[0;32m--> 588\u001b[0;31m             \u001b[0mself\u001b[0m\u001b[0;34m.\u001b[0m\u001b[0m_check_n_features\u001b[0m\u001b[0;34m(\u001b[0m\u001b[0mX\u001b[0m\u001b[0;34m,\u001b[0m \u001b[0mreset\u001b[0m\u001b[0;34m=\u001b[0m\u001b[0mreset\u001b[0m\u001b[0;34m)\u001b[0m\u001b[0;34m\u001b[0m\u001b[0;34m\u001b[0m\u001b[0m\n\u001b[0m\u001b[1;32m    589\u001b[0m \u001b[0;34m\u001b[0m\u001b[0m\n\u001b[1;32m    590\u001b[0m         \u001b[0;32mreturn\u001b[0m \u001b[0mout\u001b[0m\u001b[0;34m\u001b[0m\u001b[0;34m\u001b[0m\u001b[0m\n",
            "\u001b[0;32m/usr/local/lib/python3.10/dist-packages/sklearn/base.py\u001b[0m in \u001b[0;36m_check_n_features\u001b[0;34m(self, X, reset)\u001b[0m\n\u001b[1;32m    387\u001b[0m \u001b[0;34m\u001b[0m\u001b[0m\n\u001b[1;32m    388\u001b[0m         \u001b[0;32mif\u001b[0m \u001b[0mn_features\u001b[0m \u001b[0;34m!=\u001b[0m \u001b[0mself\u001b[0m\u001b[0;34m.\u001b[0m\u001b[0mn_features_in_\u001b[0m\u001b[0;34m:\u001b[0m\u001b[0;34m\u001b[0m\u001b[0;34m\u001b[0m\u001b[0m\n\u001b[0;32m--> 389\u001b[0;31m             raise ValueError(\n\u001b[0m\u001b[1;32m    390\u001b[0m                 \u001b[0;34mf\"X has {n_features} features, but {self.__class__.__name__} \"\u001b[0m\u001b[0;34m\u001b[0m\u001b[0;34m\u001b[0m\u001b[0m\n\u001b[1;32m    391\u001b[0m                 \u001b[0;34mf\"is expecting {self.n_features_in_} features as input.\"\u001b[0m\u001b[0;34m\u001b[0m\u001b[0;34m\u001b[0m\u001b[0m\n",
            "\u001b[0;31mValueError\u001b[0m: X has 15 features, but StandardScaler is expecting 285 features as input."
          ]
        }
      ]
    },
    {
      "cell_type": "markdown",
      "source": [
        "###Histogram-based Gradient Boosting Regression"
      ],
      "metadata": {
        "id": "IyrGkmA42oBd"
      }
    },
    {
      "cell_type": "code",
      "source": [
        "estimators = [('scaler', StandardScaler()), ('reg', HistGradientBoostingRegressor() ) ]\n",
        "hist_pipe = Pipeline(estimators)\n",
        "\n",
        "hist_pipe.fit(X_train, y_train)\n",
        "\n",
        "print(f\"Train Score:\\t{hist_pipe.score(X_train, y_train):0.3f}\")\n",
        "print(f\"Test Score:\\t{hist_pipe.score(X_test,y_test):0.3f}\")\n",
        "\n",
        "scores['HistGradientBoostingRegressor'] = hist_pipe.score(X_test,y_test)"
      ],
      "metadata": {
        "colab": {
          "base_uri": "https://localhost:8080/"
        },
        "id": "Ei4_bDMM2ykE",
        "outputId": "e9d7e711-c2e6-49c4-e00c-45608a53b60a"
      },
      "execution_count": null,
      "outputs": [
        {
          "output_type": "stream",
          "name": "stdout",
          "text": [
            "Train Score:\t0.976\n",
            "Test Score:\t0.844\n"
          ]
        }
      ]
    },
    {
      "cell_type": "markdown",
      "source": [
        "###Logistic Regression"
      ],
      "metadata": {
        "id": "fxJA3np65ELY"
      }
    },
    {
      "cell_type": "code",
      "source": [
        "estimators = [('scaler', StandardScaler()), ('reg', LogisticRegression(max_iter=50) ) ]\n",
        "log_pipe = Pipeline(estimators)\n",
        "\n",
        "log_pipe.fit(X_train, y_train)\n",
        "\n",
        "print(f\"Train Score:\\t{log_pipe.score(X_train, y_train):0.3f}\")\n",
        "print(f\"Test Score:\\t{log_pipe.score(X_test,y_test):0.3f}\")\n",
        "\n",
        "scores['LogisticRegression'] = log_pipe.score(X_test,y_test)"
      ],
      "metadata": {
        "colab": {
          "base_uri": "https://localhost:8080/"
        },
        "id": "OTwczs2g5G1Q",
        "outputId": "9fb35701-78af-4f44-edde-df26f5bb6393"
      },
      "execution_count": null,
      "outputs": [
        {
          "output_type": "stream",
          "name": "stdout",
          "text": [
            "Train Score:\t0.998\n",
            "Test Score:\t0.007\n"
          ]
        },
        {
          "output_type": "stream",
          "name": "stderr",
          "text": [
            "/usr/local/lib/python3.10/dist-packages/sklearn/linear_model/_logistic.py:458: ConvergenceWarning: lbfgs failed to converge (status=1):\n",
            "STOP: TOTAL NO. of ITERATIONS REACHED LIMIT.\n",
            "\n",
            "Increase the number of iterations (max_iter) or scale the data as shown in:\n",
            "    https://scikit-learn.org/stable/modules/preprocessing.html\n",
            "Please also refer to the documentation for alternative solver options:\n",
            "    https://scikit-learn.org/stable/modules/linear_model.html#logistic-regression\n",
            "  n_iter_i = _check_optimize_result(\n"
          ]
        }
      ]
    },
    {
      "cell_type": "code",
      "source": [
        "# estimators = [('scaler', StandardScaler()), ('reg', LogisticRegressionCV() ) ]\n",
        "# logcv_pipe = Pipeline(estimators)\n",
        "\n",
        "# #logcv_pipe.fit(X_train, y_train)\n",
        "\n",
        "# print(f\"Train Score:\\t{logcv_pipe.score(X_train, y_train):0.3f}\")\n",
        "# print(f\"Test Score:\\t{logcv_pipe.score(X_test,y_test):0.3f}\")\n",
        "\n",
        "# scores['LogisticRegression'] = logcv_pipe.score(X_test,y_test)"
      ],
      "metadata": {
        "id": "Kxc5WmXc9o-O"
      },
      "execution_count": null,
      "outputs": []
    },
    {
      "cell_type": "markdown",
      "source": [
        "###Random Forest w/ Logistic Regression"
      ],
      "metadata": {
        "id": "lVY9LhXi8W7U"
      }
    },
    {
      "cell_type": "code",
      "source": [
        "estimators = [('scaler', StandardScaler()), ('reg', RandomForestClassifier() ) ]\n",
        "rf_pipe = Pipeline(estimators)\n",
        "\n",
        "param_grid = [\n",
        "    {'classifier' : [LogisticRegression]}\n",
        "]\n",
        "\n",
        "rf_pipe.fit(X_train, y_train)\n",
        "\n",
        "print(f\"Train Score:\\t{rf_pipe.score(X_train, y_train):0.3f}\")\n",
        "print(f\"Test Score:\\t{rf_pipe.score(X_test,y_test):0.3f}\")\n",
        "\n",
        "scores['LogisticRegression'] = rf_pipe.score(X_test,y_test)"
      ],
      "metadata": {
        "colab": {
          "base_uri": "https://localhost:8080/"
        },
        "id": "gQxNYGdR8Qy8",
        "outputId": "3ed32ea4-2d2d-44fb-b00b-0a513e80a423"
      },
      "execution_count": null,
      "outputs": [
        {
          "output_type": "stream",
          "name": "stdout",
          "text": [
            "Train Score:\t1.000\n",
            "Test Score:\t0.010\n"
          ]
        }
      ]
    },
    {
      "cell_type": "markdown",
      "source": [
        "####Plot\n"
      ],
      "metadata": {
        "id": "WUrU4rYUw_tg"
      }
    },
    {
      "cell_type": "code",
      "source": [
        "make_regression_plot(rf_pipe)"
      ],
      "metadata": {
        "colab": {
          "base_uri": "https://localhost:8080/",
          "height": 449
        },
        "id": "l5Kbb0sRw2f8",
        "outputId": "6c48b6cd-3fc8-4d4c-f8fa-f25876610533"
      },
      "execution_count": null,
      "outputs": [
        {
          "output_type": "display_data",
          "data": {
            "text/plain": [
              "<Figure size 640x480 with 1 Axes>"
            ],
            "image/png": "[encoded data removed]"
          },
          "metadata": {}
        }
      ]
    },
    {
      "cell_type": "markdown",
      "source": [
        "###Random Forest Regressor"
      ],
      "metadata": {
        "id": "638C73MQwOuQ"
      }
    },
    {
      "cell_type": "code",
      "source": [
        "estimators = [('scaler', StandardScaler()), ('reg', RandomForestRegressor() ) ]\n",
        "rfr_pipe = Pipeline(estimators)\n",
        "\n",
        "rfr_pipe.fit(X_train, y_train)\n",
        "\n",
        "print(f\"Train Score:\\t{rfr_pipe.score(X_train, y_train):0.3f}\")\n",
        "print(f\"Test Score:\\t{rfr_pipe.score(X_test,y_test):0.3f}\")\n",
        "\n",
        "scores['RandomForestRegressor'] = rfr_pipe.score(X_test,y_test)"
      ],
      "metadata": {
        "colab": {
          "base_uri": "https://localhost:8080/"
        },
        "id": "MvZv_ZNawSwl",
        "outputId": "a3c0510d-a9fa-4dde-f1ec-dd7597306d39"
      },
      "execution_count": null,
      "outputs": [
        {
          "output_type": "stream",
          "name": "stdout",
          "text": [
            "Train Score:\t0.978\n",
            "Test Score:\t0.845\n"
          ]
        }
      ]
    },
    {
      "cell_type": "markdown",
      "source": [
        "##Feature Importance\n"
      ],
      "metadata": {
        "id": "fWklQopmxnQX"
      }
    },
    {
      "cell_type": "code",
      "source": [
        "rfr = RandomForestRegressor()\n",
        "rfr.fit(X_train, y_train)\n",
        "\n",
        "print(f\"Train Score:\\t{rfr.score(X_train, y_train):0.3f}\")\n",
        "print(f\"Test Score:\\t{rfr.score(X_test,y_test):0.3f}\")"
      ],
      "metadata": {
        "colab": {
          "base_uri": "https://localhost:8080/"
        },
        "id": "DeqVdDnVxm1E",
        "outputId": "f0b38b0b-bb03-480e-86e1-cc253e610544"
      },
      "execution_count": null,
      "outputs": [
        {
          "output_type": "stream",
          "name": "stdout",
          "text": [
            "Train Score:\t0.981\n",
            "Test Score:\t0.834\n"
          ]
        }
      ]
    },
    {
      "cell_type": "code",
      "source": [
        "result = permutation_importance(\n",
        "    rfr, X_test, y_test, n_repeats=4, random_state=0)"
      ],
      "metadata": {
        "id": "pzpYI81j5Veo"
      },
      "execution_count": null,
      "outputs": []
    },
    {
      "cell_type": "code",
      "source": [
        "sorted_idx = result.importances_mean.argsort()[::-1]\n",
        "df.columns[sorted_idx[:10]]\n"
      ],
      "metadata": {
        "colab": {
          "base_uri": "https://localhost:8080/"
        },
        "id": "fTOe3Wgh7ibv",
        "outputId": "e44c0ad1-bb5e-41da-f3fc-9f5ae46b83c3"
      },
      "execution_count": null,
      "outputs": [
        {
          "output_type": "execute_result",
          "data": {
            "text/plain": [
              "Index(['OverallQual', 'GrLivArea', 'TotalBsmtSF', 'BsmtFinSF1', '1stFlrSF',\n",
              "       '2ndFlrSF', 'GarageCars', 'GarageArea', 'YearRemodAdd',\n",
              "       'Exterior2nd_CmentBd'],\n",
              "      dtype='object')"
            ]
          },
          "metadata": {},
          "execution_count": 15
        }
      ]
    },
    {
      "cell_type": "code",
      "source": [
        "res = rfr.feature_importances_\n",
        "sorted_ids = res.argsort()[::-1]\n",
        "df.columns[sorted_ids[:10]]"
      ],
      "metadata": {
        "colab": {
          "base_uri": "https://localhost:8080/"
        },
        "id": "nsPKcL66y1B0",
        "outputId": "104dd29d-4882-4db8-8409-cfb1a8121363"
      },
      "execution_count": null,
      "outputs": [
        {
          "output_type": "execute_result",
          "data": {
            "text/plain": [
              "Index(['OverallQual', 'GrLivArea', 'TotalBsmtSF', 'BsmtFinSF1', '1stFlrSF',\n",
              "       'GarageCars', 'GarageArea', '2ndFlrSF', 'LotArea', 'YearBuilt'],\n",
              "      dtype='object')"
            ]
          },
          "metadata": {},
          "execution_count": 16
        }
      ]
    },
    {
      "cell_type": "markdown",
      "source": [
        "#Dawson Look Here\n"
      ],
      "metadata": {
        "id": "poP7ndWEXVka"
      }
    },
    {
      "cell_type": "code",
      "source": [
        "#Here are the features sorted by importances\n",
        "\n",
        "#There are 2 different importance calculations but they seem to be similar enough\n",
        "\n",
        "#I chose the best 16 and put them in the Limiting_features.ipynb\n",
        "\n",
        "for num in range(0, 30):\n",
        "  print(df.columns[sorted_ids[num]].ljust(18), np.round(res[sorted_ids[num]]*100, decimals=2), '  ', np.round(result.importances_mean[sorted_idx[num]]*100, decimals=2) )"
      ],
      "metadata": {
        "colab": {
          "base_uri": "https://localhost:8080/"
        },
        "id": "pRTKrEhO-yCM",
        "outputId": "a3091ea8-4d1c-4a9b-9eea-aeea16c5a332"
      },
      "execution_count": null,
      "outputs": [
        {
          "output_type": "stream",
          "name": "stdout",
          "text": [
            "OverallQual        57.61    45.68\n",
            "GrLivArea          11.94    11.7\n",
            "TotalBsmtSF        3.88    1.98\n",
            "BsmtFinSF1         3.13    1.42\n",
            "1stFlrSF           2.36    1.06\n",
            "GarageCars         1.88    0.87\n",
            "GarageArea         1.72    0.83\n",
            "2ndFlrSF           1.64    0.78\n",
            "LotArea            1.31    0.55\n",
            "YearBuilt          1.18    0.45\n",
            "Foundation_Wood    0.91    0.43\n",
            "YearRemodAdd       0.87    0.41\n",
            "MoSold             0.73    0.37\n",
            "FullBath           0.66    0.37\n",
            "BsmtUnfSF          0.63    0.29\n",
            "WoodDeckSF         0.54    0.25\n",
            "TotRmsAbvGrd       0.54    0.21\n",
            "OverallCond        0.5    0.21\n",
            "OpenPorchSF        0.49    0.18\n",
            "Fireplaces         0.35    0.17\n",
            "BsmtQual_Fa        0.31    0.15\n",
            "LotShape_IR3       0.29    0.14\n",
            "Exterior2nd_CmentBd 0.27    0.13\n",
            "KitchenQual_Fa     0.24    0.13\n",
            "BedroomAbvGr       0.23    0.12\n",
            "GarageType_2Types  0.23    0.1\n",
            "MSSubClass         0.17    0.1\n",
            "GarageType_CarPort 0.17    0.07\n",
            "MSZoning_RL        0.15    0.06\n",
            "YrSold             0.15    0.06\n"
          ]
        }
      ]
    },
    {
      "cell_type": "code",
      "source": [
        "n =12\n",
        "plt.barh(range(n), res[sorted_ids[:n]], tick_label=df.columns[sorted_ids[:n]])"
      ],
      "metadata": {
        "colab": {
          "base_uri": "https://localhost:8080/"
        },
        "id": "ywzgajmSxUwa",
        "outputId": "add48d9d-29e0-445c-b5a9-c5656a068f2a"
      },
      "execution_count": null,
      "outputs": [
        {
          "output_type": "execute_result",
          "data": {
            "text/plain": [
              "<BarContainer object of 12 artists>"
            ]
          },
          "metadata": {},
          "execution_count": 18
        },
        {
          "output_type": "display_data",
          "data": {
            "text/plain": [
              "<Figure size 640x480 with 1 Axes>"
            ],
            "image/png": "[encoded data removed]"
          },
          "metadata": {}
        }
      ]
    },
    {
      "cell_type": "code",
      "source": [
        "impor = np.array(df.columns[sorted_ids])\n",
        "impor"
      ],
      "metadata": {
        "colab": {
          "base_uri": "https://localhost:8080/"
        },
        "id": "HfvMdQ5ujOLp",
        "outputId": "f45694ad-0e5c-4d02-b1cf-6e59369762a1"
      },
      "execution_count": null,
      "outputs": [
        {
          "output_type": "execute_result",
          "data": {
            "text/plain": [
              "array(['OverallQual', 'GrLivArea', 'TotalBsmtSF', 'BsmtFinSF1',\n",
              "       '1stFlrSF', 'GarageCars', 'GarageArea', '2ndFlrSF', 'LotArea',\n",
              "       'YearBuilt', 'Foundation_Wood', 'YearRemodAdd', 'MoSold',\n",
              "       'FullBath', 'BsmtUnfSF', 'WoodDeckSF', 'TotRmsAbvGrd',\n",
              "       'OverallCond', 'OpenPorchSF', 'Fireplaces', 'BsmtQual_Fa',\n",
              "       'LotShape_IR3', 'Exterior2nd_CmentBd', 'KitchenQual_Fa',\n",
              "       'BedroomAbvGr', 'GarageType_2Types', 'MSSubClass',\n",
              "       'GarageType_CarPort', 'MSZoning_RL', 'YrSold', 'ExterQual_Fa',\n",
              "       'HeatingQC_TA', 'CentralAir_N', 'ExterQual_Gd', 'HalfBath',\n",
              "       'ScreenPorch', 'Condition1_PosA', 'BsmtFullBath', 'KitchenAbvGr',\n",
              "       'Electrical_SBrkr', 'BsmtExposure_Av', 'BsmtExposure_Mn',\n",
              "       'GarageQual_Po', 'KitchenQual_Gd', 'Exterior1st_CemntBd',\n",
              "       'Condition2_Feedr', 'GarageCond_Po', 'MSZoning_RH',\n",
              "       'BsmtFinType1_BLQ', 'GarageFinish_RFn', 'Neighborhood_Crawfor',\n",
              "       'Exterior2nd_Stucco', 'EnclosedPorch', 'SaleType_Oth',\n",
              "       'GarageType_Detchd', 'LandContour_Low', 'FireplaceQu_Fa',\n",
              "       'MasVnrType_Stone', 'MasVnrType_BrkCmn', 'MasVnrType_None',\n",
              "       'RoofMatl_ClyTile', 'GarageFinish_Fin', 'Heating_Wall',\n",
              "       'LotConfig_Inside', 'Neighborhood_CollgCr', 'Alley_Pave',\n",
              "       'BsmtFinSF2', 'LotShape_Reg', 'RoofStyle_Gambrel',\n",
              "       'Functional_Sev', 'SaleCondition_Family', 'RoofStyle_Flat',\n",
              "       'LotConfig_Corner', 'MasVnrType_BrkFace', 'LotConfig_FR3',\n",
              "       'SalePrice', 'Neighborhood_ClearCr', 'Neighborhood_NWAmes',\n",
              "       'ExterCond_Fa', 'Utilities_NoSeWa', 'Neighborhood_Somerst',\n",
              "       'BsmtQual_Gd', 'BsmtFinType1_Rec', 'Neighborhood_SawyerW',\n",
              "       'Condition2_PosA', 'Exterior1st_Stucco', 'FireplaceQu_Po',\n",
              "       'ExterCond_TA', 'BldgType_TwnhsE', 'HeatingQC_Fa', 'HeatingQC_Po',\n",
              "       'RoofMatl_WdShake', '3SsnPorch', 'Functional_Typ', 'SaleType_WD',\n",
              "       'BsmtCond_TA', 'Condition1_Feedr', 'BsmtCond_Po',\n",
              "       'SaleCondition_Normal', 'Foundation_BrkTil', 'SaleType_ConLw',\n",
              "       'ExterCond_Ex', 'GarageType_Basment', 'BsmtExposure_No',\n",
              "       'Exterior2nd_Other', 'HeatingQC_Ex', 'Exterior1st_ImStucc',\n",
              "       'LandSlope_Gtl', 'Neighborhood_StoneBr', 'PavedDrive_P',\n",
              "       'Condition2_RRNn', 'Neighborhood_Mitchel', 'Exterior1st_MetalSd',\n",
              "       'BsmtExposure_Gd', 'HouseStyle_SLvl', 'ExterCond_Po',\n",
              "       'LowQualFinSF', 'Neighborhood_NridgHt', 'Neighborhood_Gilbert',\n",
              "       'Foundation_CBlock', 'Exterior1st_VinylSd', 'Neighborhood_Veenker',\n",
              "       'BsmtFinType1_LwQ', 'LandContour_Bnk', 'Exterior2nd_CBlock',\n",
              "       'Exterior1st_CBlock', 'BsmtHalfBath', 'LandSlope_Mod',\n",
              "       'BsmtFinType1_GLQ', 'LotShape_IR1', 'Exterior1st_BrkComm',\n",
              "       'Neighborhood_SWISU', 'BsmtCond_Fa', 'HouseStyle_2.5Unf',\n",
              "       'Exterior2nd_VinylSd', 'Neighborhood_NPkVill',\n",
              "       'Neighborhood_NoRidge', 'BsmtQual_TA', 'PoolQC_Gd', 'Fence_GdPrv',\n",
              "       'BsmtFinType2_Rec', 'Street_Pave', 'HouseStyle_1.5Unf',\n",
              "       'Exterior2nd_ImStucc', 'Alley_Grvl', 'GarageCond_TA',\n",
              "       'Exterior2nd_Wd Sdng', 'BsmtFinType1_ALQ', 'Condition1_Artery',\n",
              "       'BsmtFinType2_ALQ', 'Fence_GdWo', 'Neighborhood_BrDale',\n",
              "       'BsmtFinType2_GLQ', 'Electrical_Mix', 'FireplaceQu_Gd',\n",
              "       'KitchenQual_Ex', 'Exterior2nd_Brk Cmn', 'Neighborhood_BrkSide',\n",
              "       'BsmtFinType1_Unf', 'Heating_GasA', 'Functional_Maj2',\n",
              "       'Neighborhood_Sawyer', 'Neighborhood_Edwards', 'GarageQual_Ex',\n",
              "       'CentralAir_Y', 'Heating_Floor', 'Exterior1st_Stone',\n",
              "       'HouseStyle_SFoyer', 'Exterior1st_AsphShn', 'PoolArea',\n",
              "       'GarageCond_Ex', 'Neighborhood_OldTown', 'BldgType_2fmCon',\n",
              "       'MiscVal', 'SaleCondition_AdjLand', 'Exterior2nd_Stone',\n",
              "       'BsmtQual_Ex', 'Functional_Min2', 'MSZoning_C (all)',\n",
              "       'MiscFeature_TenC', 'Condition1_PosN', 'Neighborhood_MeadowV',\n",
              "       'PavedDrive_N', 'SaleCondition_Alloca', 'BldgType_Twnhs',\n",
              "       'Exterior2nd_AsphShn', 'LotConfig_CulDSac', 'SaleType_ConLD',\n",
              "       'Exterior2nd_Wd Shng', 'Condition1_Norm', 'GarageType_BuiltIn',\n",
              "       'Neighborhood_Timber', 'BsmtFinType2_LwQ', 'RoofStyle_Gable',\n",
              "       'LandContour_HLS', 'Electrical_FuseA', 'Condition1_RRAe',\n",
              "       'Functional_Maj1', 'HouseStyle_2.5Fin', 'GarageQual_Fa',\n",
              "       'Functional_Min1', 'MiscFeature_Othr', 'BldgType_1Fam',\n",
              "       'GarageCond_Fa', 'FireplaceQu_Ex', 'BldgType_Duplex',\n",
              "       'RoofMatl_WdShngl', 'HouseStyle_2Story', 'MSZoning_FV',\n",
              "       'GarageType_Attchd', 'ExterQual_Ex', 'Exterior1st_Plywood',\n",
              "       'Exterior1st_WdShing', 'Exterior2nd_Plywood', 'LotShape_IR2',\n",
              "       'Street_Grvl', 'PoolQC_Fa', 'PavedDrive_Y', 'SaleType_COD',\n",
              "       'Exterior1st_Wd Sdng', 'Neighborhood_IDOTRR', 'KitchenQual_TA',\n",
              "       'HouseStyle_1Story', 'Exterior2nd_MetalSd', 'Exterior2nd_AsbShng',\n",
              "       'Neighborhood_Blueste', 'Electrical_FuseP', 'Foundation_PConc',\n",
              "       'SaleType_ConLI', 'SaleType_Con', 'MSZoning_RM', 'Condition1_RRAn',\n",
              "       'RoofMatl_Tar&Grv', 'Exterior1st_AsbShng', 'Neighborhood_NAmes',\n",
              "       'Exterior2nd_HdBoard', 'HouseStyle_1.5Fin', 'GarageCond_Gd',\n",
              "       'Electrical_FuseF', 'Heating_Grav', 'ExterQual_TA',\n",
              "       'Condition2_Artery', 'RoofStyle_Hip', 'LandSlope_Sev',\n",
              "       'BsmtFinType2_BLQ', 'MiscFeature_Gar2', 'SaleCondition_Abnorml',\n",
              "       'GarageQual_Gd', 'Neighborhood_Blmngtn', 'GarageQual_TA',\n",
              "       'Foundation_Slab', 'RoofMatl_Roll', 'Heating_GasW', 'SaleType_CWD',\n",
              "       'Fence_MnPrv', 'BsmtCond_Gd', 'SaleType_New', 'FireplaceQu_TA',\n",
              "       'GarageFinish_Unf', 'Fence_MnWw', 'PoolQC_Ex', 'RoofMatl_Membran',\n",
              "       'RoofStyle_Mansard', 'ExterCond_Gd', 'LotConfig_FR2',\n",
              "       'Heating_OthW', 'Condition1_RRNe', 'Foundation_Stone',\n",
              "       'BsmtFinType2_Unf', 'Exterior2nd_BrkFace', 'Condition1_RRNn',\n",
              "       'Condition2_Norm', 'Exterior1st_HdBoard', 'HeatingQC_Gd',\n",
              "       'Exterior1st_BrkFace', 'Condition2_PosN', 'RoofMatl_Metal',\n",
              "       'Utilities_AllPub', 'Condition2_RRAe', 'Condition2_RRAn',\n",
              "       'Functional_Mod', 'RoofStyle_Shed', 'LandContour_Lvl',\n",
              "       'RoofMatl_CompShg', 'MiscFeature_Shed'], dtype=object)"
            ]
          },
          "metadata": {},
          "execution_count": 19
        }
      ]
    },
    {
      "cell_type": "code",
      "source": [
        "df['SalePrice'].describe()"
      ],
      "metadata": {
        "colab": {
          "base_uri": "https://localhost:8080/"
        },
        "id": "qnhKEImZhrBc",
        "outputId": "74035161-b204-41ae-d183-ff65d651177c"
      },
      "execution_count": null,
      "outputs": [
        {
          "output_type": "execute_result",
          "data": {
            "text/plain": [
              "count      1460.000000\n",
              "mean     180921.195890\n",
              "std       79442.502883\n",
              "min       34900.000000\n",
              "25%      129975.000000\n",
              "50%      163000.000000\n",
              "75%      214000.000000\n",
              "max      755000.000000\n",
              "Name: SalePrice, dtype: float64"
            ]
          },
          "metadata": {},
          "execution_count": 20
        }
      ]
    },
    {
      "cell_type": "code",
      "source": [
        "df"
      ],
      "metadata": {
        "id": "mPFYfG2pil-0",
        "colab": {
          "base_uri": "https://localhost:8080/"
        },
        "outputId": "bbffcc57-476a-4f63-fbdc-d1f7516e808c"
      },
      "execution_count": null,
      "outputs": [
        {
          "output_type": "execute_result",
          "data": {
            "text/plain": [
              "      MSSubClass  LotArea  OverallQual  OverallCond  YearBuilt  YearRemodAdd  \\\n",
              "0             60     8450            7            5       2003          2003   \n",
              "1             20     9600            6            8       1976          1976   \n",
              "2             60    11250            7            5       2001          2002   \n",
              "3             70     9550            7            5       1915          1970   \n",
              "4             60    14260            8            5       2000          2000   \n",
              "...          ...      ...          ...          ...        ...           ...   \n",
              "1455          60     7917            6            5       1999          2000   \n",
              "1456          20    13175            6            6       1978          1988   \n",
              "1457          70     9042            7            9       1941          2006   \n",
              "1458          20     9717            5            6       1950          1996   \n",
              "1459          20     9937            5            6       1965          1965   \n",
              "\n",
              "      BsmtFinSF1  BsmtFinSF2  BsmtUnfSF  TotalBsmtSF  ...  SaleType_ConLw  \\\n",
              "0            706           0        150          856  ...             0.0   \n",
              "1            978           0        284         1262  ...             0.0   \n",
              "2            486           0        434          920  ...             0.0   \n",
              "3            216           0        540          756  ...             0.0   \n",
              "4            655           0        490         1145  ...             0.0   \n",
              "...          ...         ...        ...          ...  ...             ...   \n",
              "1455           0           0        953          953  ...             0.0   \n",
              "1456         790         163        589         1542  ...             0.0   \n",
              "1457         275           0        877         1152  ...             0.0   \n",
              "1458          49        1029          0         1078  ...             0.0   \n",
              "1459         830         290        136         1256  ...             0.0   \n",
              "\n",
              "      SaleType_New  SaleType_Oth  SaleType_WD  SaleCondition_Abnorml  \\\n",
              "0              0.0           0.0          1.0                    0.0   \n",
              "1              0.0           0.0          1.0                    0.0   \n",
              "2              0.0           0.0          1.0                    0.0   \n",
              "3              0.0           0.0          1.0                    1.0   \n",
              "4              0.0           0.0          1.0                    0.0   \n",
              "...            ...           ...          ...                    ...   \n",
              "1455           0.0           0.0          1.0                    0.0   \n",
              "1456           0.0           0.0          1.0                    0.0   \n",
              "1457           0.0           0.0          1.0                    0.0   \n",
              "1458           0.0           0.0          1.0                    0.0   \n",
              "1459           0.0           0.0          1.0                    0.0   \n",
              "\n",
              "      SaleCondition_AdjLand  SaleCondition_Alloca  SaleCondition_Family  \\\n",
              "0                       0.0                   0.0                   0.0   \n",
              "1                       0.0                   0.0                   0.0   \n",
              "2                       0.0                   0.0                   0.0   \n",
              "3                       0.0                   0.0                   0.0   \n",
              "4                       0.0                   0.0                   0.0   \n",
              "...                     ...                   ...                   ...   \n",
              "1455                    0.0                   0.0                   0.0   \n",
              "1456                    0.0                   0.0                   0.0   \n",
              "1457                    0.0                   0.0                   0.0   \n",
              "1458                    0.0                   0.0                   0.0   \n",
              "1459                    0.0                   0.0                   0.0   \n",
              "\n",
              "      SaleCondition_Normal  SaleCondition_Partial  \n",
              "0                      1.0                    0.0  \n",
              "1                      1.0                    0.0  \n",
              "2                      1.0                    0.0  \n",
              "3                      0.0                    0.0  \n",
              "4                      1.0                    0.0  \n",
              "...                    ...                    ...  \n",
              "1455                   1.0                    0.0  \n",
              "1456                   1.0                    0.0  \n",
              "1457                   1.0                    0.0  \n",
              "1458                   1.0                    0.0  \n",
              "1459                   1.0                    0.0  \n",
              "\n",
              "[1460 rows x 286 columns]"
            ],
            "text/html": [
              "\n",
              "  <div id=\"df-a0a45d3e-350d-491c-9049-9de0dc673fab\">\n",
              "    <div class=\"colab-df-container\">\n",
              "      <div>\n",
              "<style scoped>\n",
              "    .dataframe tbody tr th:only-of-type {\n",
              "        vertical-align: middle;\n",
              "    }\n",
              "\n",
              "    .dataframe tbody tr th {\n",
              "        vertical-align: top;\n",
              "    }\n",
              "\n",
              "    .dataframe thead th {\n",
              "        text-align: right;\n",
              "    }\n",
              "</style>\n",
              "<table border=\"1\" class=\"dataframe\">\n",
              "  <thead>\n",
              "    <tr style=\"text-align: right;\">\n",
              "      <th></th>\n",
              "      <th>MSSubClass</th>\n",
              "      <th>LotArea</th>\n",
              "      <th>OverallQual</th>\n",
              "      <th>OverallCond</th>\n",
              "      <th>YearBuilt</th>\n",
              "      <th>YearRemodAdd</th>\n",
              "      <th>BsmtFinSF1</th>\n",
              "      <th>BsmtFinSF2</th>\n",
              "      <th>BsmtUnfSF</th>\n",
              "      <th>TotalBsmtSF</th>\n",
              "      <th>...</th>\n",
              "      <th>SaleType_ConLw</th>\n",
              "      <th>SaleType_New</th>\n",
              "      <th>SaleType_Oth</th>\n",
              "      <th>SaleType_WD</th>\n",
              "      <th>SaleCondition_Abnorml</th>\n",
              "      <th>SaleCondition_AdjLand</th>\n",
              "      <th>SaleCondition_Alloca</th>\n",
              "      <th>SaleCondition_Family</th>\n",
              "      <th>SaleCondition_Normal</th>\n",
              "      <th>SaleCondition_Partial</th>\n",
              "    </tr>\n",
              "  </thead>\n",
              "  <tbody>\n",
              "    <tr>\n",
              "      <th>0</th>\n",
              "      <td>60</td>\n",
              "      <td>8450</td>\n",
              "      <td>7</td>\n",
              "      <td>5</td>\n",
              "      <td>2003</td>\n",
              "      <td>2003</td>\n",
              "      <td>706</td>\n",
              "      <td>0</td>\n",
              "      <td>150</td>\n",
              "      <td>856</td>\n",
              "      <td>...</td>\n",
              "      <td>0.0</td>\n",
              "      <td>0.0</td>\n",
              "      <td>0.0</td>\n",
              "      <td>1.0</td>\n",
              "      <td>0.0</td>\n",
              "      <td>0.0</td>\n",
              "      <td>0.0</td>\n",
              "      <td>0.0</td>\n",
              "      <td>1.0</td>\n",
              "      <td>0.0</td>\n",
              "    </tr>\n",
              "    <tr>\n",
              "      <th>1</th>\n",
              "      <td>20</td>\n",
              "      <td>9600</td>\n",
              "      <td>6</td>\n",
              "      <td>8</td>\n",
              "      <td>1976</td>\n",
              "      <td>1976</td>\n",
              "      <td>978</td>\n",
              "      <td>0</td>\n",
              "      <td>284</td>\n",
              "      <td>1262</td>\n",
              "      <td>...</td>\n",
              "      <td>0.0</td>\n",
              "      <td>0.0</td>\n",
              "      <td>0.0</td>\n",
              "      <td>1.0</td>\n",
              "      <td>0.0</td>\n",
              "      <td>0.0</td>\n",
              "      <td>0.0</td>\n",
              "      <td>0.0</td>\n",
              "      <td>1.0</td>\n",
              "      <td>0.0</td>\n",
              "    </tr>\n",
              "    <tr>\n",
              "      <th>2</th>\n",
              "      <td>60</td>\n",
              "      <td>11250</td>\n",
              "      <td>7</td>\n",
              "      <td>5</td>\n",
              "      <td>2001</td>\n",
              "      <td>2002</td>\n",
              "      <td>486</td>\n",
              "      <td>0</td>\n",
              "      <td>434</td>\n",
              "      <td>920</td>\n",
              "      <td>...</td>\n",
              "      <td>0.0</td>\n",
              "      <td>0.0</td>\n",
              "      <td>0.0</td>\n",
              "      <td>1.0</td>\n",
              "      <td>0.0</td>\n",
              "      <td>0.0</td>\n",
              "      <td>0.0</td>\n",
              "      <td>0.0</td>\n",
              "      <td>1.0</td>\n",
              "      <td>0.0</td>\n",
              "    </tr>\n",
              "    <tr>\n",
              "      <th>3</th>\n",
              "      <td>70</td>\n",
              "      <td>9550</td>\n",
              "      <td>7</td>\n",
              "      <td>5</td>\n",
              "      <td>1915</td>\n",
              "      <td>1970</td>\n",
              "      <td>216</td>\n",
              "      <td>0</td>\n",
              "      <td>540</td>\n",
              "      <td>756</td>\n",
              "      <td>...</td>\n",
              "      <td>0.0</td>\n",
              "      <td>0.0</td>\n",
              "      <td>0.0</td>\n",
              "      <td>1.0</td>\n",
              "      <td>1.0</td>\n",
              "      <td>0.0</td>\n",
              "      <td>0.0</td>\n",
              "      <td>0.0</td>\n",
              "      <td>0.0</td>\n",
              "      <td>0.0</td>\n",
              "    </tr>\n",
              "    <tr>\n",
              "      <th>4</th>\n",
              "      <td>60</td>\n",
              "      <td>14260</td>\n",
              "      <td>8</td>\n",
              "      <td>5</td>\n",
              "      <td>2000</td>\n",
              "      <td>2000</td>\n",
              "      <td>655</td>\n",
              "      <td>0</td>\n",
              "      <td>490</td>\n",
              "      <td>1145</td>\n",
              "      <td>...</td>\n",
              "      <td>0.0</td>\n",
              "      <td>0.0</td>\n",
              "      <td>0.0</td>\n",
              "      <td>1.0</td>\n",
              "      <td>0.0</td>\n",
              "      <td>0.0</td>\n",
              "      <td>0.0</td>\n",
              "      <td>0.0</td>\n",
              "      <td>1.0</td>\n",
              "      <td>0.0</td>\n",
              "    </tr>\n",
              "    <tr>\n",
              "      <th>...</th>\n",
              "      <td>...</td>\n",
              "      <td>...</td>\n",
              "      <td>...</td>\n",
              "      <td>...</td>\n",
              "      <td>...</td>\n",
              "      <td>...</td>\n",
              "      <td>...</td>\n",
              "      <td>...</td>\n",
              "      <td>...</td>\n",
              "      <td>...</td>\n",
              "      <td>...</td>\n",
              "      <td>...</td>\n",
              "      <td>...</td>\n",
              "      <td>...</td>\n",
              "      <td>...</td>\n",
              "      <td>...</td>\n",
              "      <td>...</td>\n",
              "      <td>...</td>\n",
              "      <td>...</td>\n",
              "      <td>...</td>\n",
              "      <td>...</td>\n",
              "    </tr>\n",
              "    <tr>\n",
              "      <th>1455</th>\n",
              "      <td>60</td>\n",
              "      <td>7917</td>\n",
              "      <td>6</td>\n",
              "      <td>5</td>\n",
              "      <td>1999</td>\n",
              "      <td>2000</td>\n",
              "      <td>0</td>\n",
              "      <td>0</td>\n",
              "      <td>953</td>\n",
              "      <td>953</td>\n",
              "      <td>...</td>\n",
              "      <td>0.0</td>\n",
              "      <td>0.0</td>\n",
              "      <td>0.0</td>\n",
              "      <td>1.0</td>\n",
              "      <td>0.0</td>\n",
              "      <td>0.0</td>\n",
              "      <td>0.0</td>\n",
              "      <td>0.0</td>\n",
              "      <td>1.0</td>\n",
              "      <td>0.0</td>\n",
              "    </tr>\n",
              "    <tr>\n",
              "      <th>1456</th>\n",
              "      <td>20</td>\n",
              "      <td>13175</td>\n",
              "      <td>6</td>\n",
              "      <td>6</td>\n",
              "      <td>1978</td>\n",
              "      <td>1988</td>\n",
              "      <td>790</td>\n",
              "      <td>163</td>\n",
              "      <td>589</td>\n",
              "      <td>1542</td>\n",
              "      <td>...</td>\n",
              "      <td>0.0</td>\n",
              "      <td>0.0</td>\n",
              "      <td>0.0</td>\n",
              "      <td>1.0</td>\n",
              "      <td>0.0</td>\n",
              "      <td>0.0</td>\n",
              "      <td>0.0</td>\n",
              "      <td>0.0</td>\n",
              "      <td>1.0</td>\n",
              "      <td>0.0</td>\n",
              "    </tr>\n",
              "    <tr>\n",
              "      <th>1457</th>\n",
              "      <td>70</td>\n",
              "      <td>9042</td>\n",
              "      <td>7</td>\n",
              "      <td>9</td>\n",
              "      <td>1941</td>\n",
              "      <td>2006</td>\n",
              "      <td>275</td>\n",
              "      <td>0</td>\n",
              "      <td>877</td>\n",
              "      <td>1152</td>\n",
              "      <td>...</td>\n",
              "      <td>0.0</td>\n",
              "      <td>0.0</td>\n",
              "      <td>0.0</td>\n",
              "      <td>1.0</td>\n",
              "      <td>0.0</td>\n",
              "      <td>0.0</td>\n",
              "      <td>0.0</td>\n",
              "      <td>0.0</td>\n",
              "      <td>1.0</td>\n",
              "      <td>0.0</td>\n",
              "    </tr>\n",
              "    <tr>\n",
              "      <th>1458</th>\n",
              "      <td>20</td>\n",
              "      <td>9717</td>\n",
              "      <td>5</td>\n",
              "      <td>6</td>\n",
              "      <td>1950</td>\n",
              "      <td>1996</td>\n",
              "      <td>49</td>\n",
              "      <td>1029</td>\n",
              "      <td>0</td>\n",
              "      <td>1078</td>\n",
              "      <td>...</td>\n",
              "      <td>0.0</td>\n",
              "      <td>0.0</td>\n",
              "      <td>0.0</td>\n",
              "      <td>1.0</td>\n",
              "      <td>0.0</td>\n",
              "      <td>0.0</td>\n",
              "      <td>0.0</td>\n",
              "      <td>0.0</td>\n",
              "      <td>1.0</td>\n",
              "      <td>0.0</td>\n",
              "    </tr>\n",
              "    <tr>\n",
              "      <th>1459</th>\n",
              "      <td>20</td>\n",
              "      <td>9937</td>\n",
              "      <td>5</td>\n",
              "      <td>6</td>\n",
              "      <td>1965</td>\n",
              "      <td>1965</td>\n",
              "      <td>830</td>\n",
              "      <td>290</td>\n",
              "      <td>136</td>\n",
              "      <td>1256</td>\n",
              "      <td>...</td>\n",
              "      <td>0.0</td>\n",
              "      <td>0.0</td>\n",
              "      <td>0.0</td>\n",
              "      <td>1.0</td>\n",
              "      <td>0.0</td>\n",
              "      <td>0.0</td>\n",
              "      <td>0.0</td>\n",
              "      <td>0.0</td>\n",
              "      <td>1.0</td>\n",
              "      <td>0.0</td>\n",
              "    </tr>\n",
              "  </tbody>\n",
              "</table>\n",
              "<p>1460 rows × 286 columns</p>\n",
              "</div>\n",
              "      <button class=\"colab-df-convert\" onclick=\"convertToInteractive('df-a0a45d3e-350d-491c-9049-9de0dc673fab')\"\n",
              "              title=\"Convert this dataframe to an interactive table.\"\n",
              "              style=\"display:none;\">\n",
              "        \n",
              "  <svg xmlns=\"http://www.w3.org/2000/svg\" height=\"24px\"viewBox=\"0 0 24 24\"\n",
              "       width=\"24px\">\n",
              "    <path d=\"M0 0h24v24H0V0z\" fill=\"none\"/>\n",
              "    <path d=\"M18.56 5.44l.94 2.06.94-2.06 2.06-.94-2.06-.94-.94-2.06-.94 2.06-2.06.94zm-11 1L8.5 8.5l.94-2.06 2.06-.94-2.06-.94L8.5 2.5l-.94 2.06-2.06.94zm10 10l.94 2.06.94-2.06 2.06-.94-2.06-.94-.94-2.06-.94 2.06-2.06.94z\"/><path d=\"M17.41 7.96l-1.37-1.37c-.4-.4-.92-.59-1.43-.59-.52 0-1.04.2-1.43.59L10.3 9.45l-7.72 7.72c-.78.78-.78 2.05 0 2.83L4 21.41c.39.39.9.59 1.41.59.51 0 1.02-.2 1.41-.59l7.78-7.78 2.81-2.81c.8-.78.8-2.07 0-2.86zM5.41 20L4 18.59l7.72-7.72 1.47 1.35L5.41 20z\"/>\n",
              "  </svg>\n",
              "      </button>\n",
              "      \n",
              "  <style>\n",
              "    .colab-df-container {\n",
              "      display:flex;\n",
              "      flex-wrap:wrap;\n",
              "      gap: 12px;\n",
              "    }\n",
              "\n",
              "    .colab-df-convert {\n",
              "      background-color: #E8F0FE;\n",
              "      border: none;\n",
              "      border-radius: 50%;\n",
              "      cursor: pointer;\n",
              "      display: none;\n",
              "      fill: #1967D2;\n",
              "      height: 32px;\n",
              "      padding: 0 0 0 0;\n",
              "      width: 32px;\n",
              "    }\n",
              "\n",
              "    .colab-df-convert:hover {\n",
              "      background-color: #E2EBFA;\n",
              "      box-shadow: 0px 1px 2px rgba(60, 64, 67, 0.3), 0px 1px 3px 1px rgba(60, 64, 67, 0.15);\n",
              "      fill: #174EA6;\n",
              "    }\n",
              "\n",
              "    [theme=dark] .colab-df-convert {\n",
              "      background-color: #3B4455;\n",
              "      fill: #D2E3FC;\n",
              "    }\n",
              "\n",
              "    [theme=dark] .colab-df-convert:hover {\n",
              "      background-color: #434B5C;\n",
              "      box-shadow: 0px 1px 3px 1px rgba(0, 0, 0, 0.15);\n",
              "      filter: drop-shadow(0px 1px 2px rgba(0, 0, 0, 0.3));\n",
              "      fill: #FFFFFF;\n",
              "    }\n",
              "  </style>\n",
              "\n",
              "      <script>\n",
              "        const buttonEl =\n",
              "          document.querySelector('#df-a0a45d3e-350d-491c-9049-9de0dc673fab button.colab-df-convert');\n",
              "        buttonEl.style.display =\n",
              "          google.colab.kernel.accessAllowed ? 'block' : 'none';\n",
              "\n",
              "        async function convertToInteractive(key) {\n",
              "          const element = document.querySelector('#df-a0a45d3e-350d-491c-9049-9de0dc673fab');\n",
              "          const dataTable =\n",
              "            await google.colab.kernel.invokeFunction('convertToInteractive',\n",
              "                                                     [key], {});\n",
              "          if (!dataTable) return;\n",
              "\n",
              "          const docLinkHtml = 'Like what you see? Visit the ' +\n",
              "            '<a target=\"_blank\" href=https://colab.research.google.com/notebooks/data_table.ipynb>data table notebook</a>'\n",
              "            + ' to learn more about interactive tables.';\n",
              "          element.innerHTML = '';\n",
              "          dataTable['output_type'] = 'display_data';\n",
              "          await google.colab.output.renderOutput(dataTable, element);\n",
              "          const docLink = document.createElement('div');\n",
              "          docLink.innerHTML = docLinkHtml;\n",
              "          element.appendChild(docLink);\n",
              "        }\n",
              "      </script>\n",
              "    </div>\n",
              "  </div>\n",
              "  "
            ]
          },
          "metadata": {},
          "execution_count": 21
        }
      ]
    },
    {
      "cell_type": "code",
      "source": [],
      "metadata": {
        "id": "VYld8uBTFP8y"
      },
      "execution_count": null,
      "outputs": []
    },
    {
      "cell_type": "markdown",
      "source": [
        "##Limiting Features"
      ],
      "metadata": {
        "id": "90nY03OsFRvh"
      }
    },
    {
      "cell_type": "markdown",
      "source": [
        "###Cleaning Data\n"
      ],
      "metadata": {
        "id": "V6pios_QFWOP"
      }
    },
    {
      "cell_type": "code",
      "source": [
        "df_limited = df[df.columns[sorted_idx[:16]]]"
      ],
      "metadata": {
        "id": "OJ4b8jaCAk2F"
      },
      "execution_count": null,
      "outputs": []
    },
    {
      "cell_type": "code",
      "source": [
        "df_limited.columns"
      ],
      "metadata": {
        "colab": {
          "base_uri": "https://localhost:8080/"
        },
        "id": "Xl_GTU3mIZas",
        "outputId": "341adaed-3a24-4b39-fc2f-7b1233805f3f"
      },
      "execution_count": null,
      "outputs": [
        {
          "output_type": "execute_result",
          "data": {
            "text/plain": [
              "Index(['OverallQual', 'GrLivArea', 'TotalBsmtSF', 'BsmtFinSF1', '1stFlrSF',\n",
              "       '2ndFlrSF', 'GarageCars', 'GarageArea', 'YearRemodAdd',\n",
              "       'Exterior2nd_CmentBd', 'BedroomAbvGr', 'LotArea', 'Fireplaces',\n",
              "       'YearBuilt', 'WoodDeckSF', 'LandContour_Low'],\n",
              "      dtype='object')"
            ]
          },
          "metadata": {},
          "execution_count": 23
        }
      ]
    },
    {
      "cell_type": "code",
      "source": [
        "df_limited = df_limited.drop(columns=['OverallQual'],axis=1)"
      ],
      "metadata": {
        "id": "h3mqSg8KIdl5"
      },
      "execution_count": null,
      "outputs": []
    },
    {
      "cell_type": "code",
      "source": [
        "X_lim = df_limited\n",
        "X_train, X_test, y_train, y_test = train_test_split(X_lim, y, random_state=0, test_size=0.2)"
      ],
      "metadata": {
        "id": "BAS4c-7QBGcX"
      },
      "execution_count": null,
      "outputs": []
    },
    {
      "cell_type": "markdown",
      "source": [
        "###Random Forest"
      ],
      "metadata": {
        "id": "8FApoba2F-Sk"
      }
    },
    {
      "cell_type": "code",
      "source": [
        "rfr_lim = RandomForestRegressor()\n",
        "rfr_lim.fit(X_train, y_train)\n",
        "\n",
        "print(f\"Train Score:\\t{rfr_lim.score(X_train, y_train):0.3f}\")\n",
        "print(f\"Test Score:\\t{rfr_lim.score(X_test,y_test):0.3f}\")\n",
        "\n",
        "scores['lim_RandomForestRegressor'] = rfr_lim.score(X_test,y_test)"
      ],
      "metadata": {
        "colab": {
          "base_uri": "https://localhost:8080/"
        },
        "id": "E1UteBobB_Pq",
        "outputId": "69124900-28d8-4ae4-b616-a0229aabae2b"
      },
      "execution_count": null,
      "outputs": [
        {
          "output_type": "stream",
          "name": "stdout",
          "text": [
            "Train Score:\t0.977\n",
            "Test Score:\t0.858\n"
          ]
        }
      ]
    },
    {
      "cell_type": "markdown",
      "source": [
        "###Histogram-based Gradient Boosting Regression"
      ],
      "metadata": {
        "id": "o6USTgZJGZSn"
      }
    },
    {
      "cell_type": "code",
      "source": [
        "estimators = [('scaler', StandardScaler()), ('reg', HistGradientBoostingRegressor() ) ]\n",
        "lim_hist_pipe = Pipeline(estimators)\n",
        "\n",
        "lim_hist_pipe.fit(X_train, y_train)\n",
        "\n",
        "print(f\"Train Score:\\t{lim_hist_pipe.score(X_train, y_train):0.3f}\")\n",
        "print(f\"Test Score:\\t{lim_hist_pipe.score(X_test,y_test):0.3f}\")\n",
        "\n",
        "scores['Lim_HistGradientBoostingRegressor'] = lim_hist_pipe.score(X_test,y_test)"
      ],
      "metadata": {
        "colab": {
          "base_uri": "https://localhost:8080/"
        },
        "id": "6cK-Pe97GQ2s",
        "outputId": "727f6d57-cda1-484c-ad9a-8d67fb066440"
      },
      "execution_count": null,
      "outputs": [
        {
          "output_type": "stream",
          "name": "stdout",
          "text": [
            "Train Score:\t0.963\n",
            "Test Score:\t0.844\n"
          ]
        }
      ]
    },
    {
      "cell_type": "markdown",
      "source": [
        "###Linear Regression"
      ],
      "metadata": {
        "id": "l-KpnrdMG-yB"
      }
    },
    {
      "cell_type": "code",
      "source": [
        "estimators = [('scaler', StandardScaler()), ('reg', LinearRegression() ) ]\n",
        "lim_lin_pipe = Pipeline(estimators)\n",
        "\n",
        "lim_lin_pipe.fit(X_train, y_train)\n",
        "\n",
        "print(f\"Train Score:\\t{lim_lin_pipe.score(X_train, y_train):0.3f}\")\n",
        "print(f\"Test Score:\\t{lim_lin_pipe.score(X_test,y_test):0.3f}\")\n",
        "\n",
        "scores['Lim_LinearRegressor'] = lim_lin_pipe.score(X_test,y_test)"
      ],
      "metadata": {
        "colab": {
          "base_uri": "https://localhost:8080/"
        },
        "id": "MX7ocQ7z7R2F",
        "outputId": "9ce37242-1969-484e-9a69-43cd3f7c2fda"
      },
      "execution_count": null,
      "outputs": [
        {
          "output_type": "stream",
          "name": "stdout",
          "text": [
            "Train Score:\t0.798\n",
            "Test Score:\t0.561\n"
          ]
        }
      ]
    },
    {
      "cell_type": "markdown",
      "source": [
        "#Scores"
      ],
      "metadata": {
        "id": "l7vGYHYK5Vbb"
      }
    },
    {
      "cell_type": "code",
      "source": [
        "scores"
      ],
      "metadata": {
        "colab": {
          "base_uri": "https://localhost:8080/"
        },
        "id": "lSwDiZ5q5U1G",
        "outputId": "593d8051-348c-4e01-b807-74750ea26fef"
      },
      "execution_count": null,
      "outputs": [
        {
          "output_type": "execute_result",
          "data": {
            "text/plain": [
              "{'LinearRegressor': -2.6151990238885637e+23,\n",
              " 'HistGradientBoostingRegressor': 0.8440638637036288,\n",
              " 'LogisticRegression': 0.010273972602739725,\n",
              " 'RandomForestRegressor': 0.844648401775557,\n",
              " 'lim_RandomForestRegressor': 0.8577442537038072,\n",
              " 'Lim_HistGradientBoostingRegressor': 0.8438457841220616,\n",
              " 'Lim_LinearRegressor': 0.561177165691517}"
            ]
          },
          "metadata": {},
          "execution_count": 29
        }
      ]
    }
  ]
}